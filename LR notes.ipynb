{
 "cells": [
  {
   "cell_type": "raw",
   "metadata": {},
   "source": [
    "Linear Regression\n",
    "x predictor features\n",
    "y outcome values\n",
    "W predictor feature coeff\n",
    "b regression intercept\n",
    "learn_rate\n",
    "\n",
    "w_new : coeff after gradient descent\n",
    "b_new: coeff after gradient descent\n",
    "\n",
    "Base equation\n",
    "y=w1*x+b\n",
    "yhat=w1*xhat+b\n",
    "\n",
    "error=y-y_pred\n",
    "\n",
    "mean square error(gradient decent)\n",
    "w_new=W+learn_rate*error*X\n",
    "b_new=b*learn_rate*error\n",
    "\n",
    "\n"
   ]
  }
 ],
 "metadata": {
  "kernelspec": {
   "display_name": "Python 3",
   "language": "python",
   "name": "python3"
  },
  "language_info": {
   "codemirror_mode": {
    "name": "ipython",
    "version": 3
   },
   "file_extension": ".py",
   "mimetype": "text/x-python",
   "name": "python",
   "nbconvert_exporter": "python",
   "pygments_lexer": "ipython3",
   "version": "3.5.2"
  }
 },
 "nbformat": 4,
 "nbformat_minor": 2
}
