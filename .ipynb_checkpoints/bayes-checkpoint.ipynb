{
 "cells": [
  {
   "cell_type": "raw",
   "metadata": {
    "deletable": true,
    "editable": true
   },
   "source": [
    "Bayes Theorem\n",
    "\n",
    "probability of A given R = P(R|A)=P(R intersect A) = P(A)P(R|A)\n",
    "this is infering\n",
    "\n",
    "to normalize two probabilities you divide the probabilities by the total of all probabilities\n",
    "S=sick\n",
    "H=Healthy or not sick\n",
    "+=positive test\n",
    "probbility of being sick given being marked as healthy\n",
    "p(S|+)=[P(S)P(+|S)]/[P(S)P(+|S)+P(H)P(+|H)]\n",
    "=[.0001*(.99)]/[(0.0001*.99)+.9999*.99]'\n",
    "\n",
    "so take whats known\n",
    "probabilitiy of A given S(Spam)\n",
    "P(A|S)\n",
    "to infer \n",
    "probability of Spam given A\n",
    "P(S|A)"
   ]
  },
  {
   "cell_type": "code",
   "execution_count": 1,
   "metadata": {
    "collapsed": false,
    "deletable": true,
    "editable": true
   },
   "outputs": [
    {
     "data": {
      "text/plain": [
       "9.900000000000001e-05"
      ]
     },
     "execution_count": 1,
     "metadata": {},
     "output_type": "execute_result"
    }
   ],
   "source": [
    "# A=sick\n",
    "# P(A)=1/10000\n",
    "# R=probability correct\n",
    "# P(R)=.99\n",
    "pa=1/10000\n",
    "pr=.99\n",
    "pa*pr"
   ]
  },
  {
   "cell_type": "code",
   "execution_count": 4,
   "metadata": {
    "collapsed": false,
    "deletable": true,
    "editable": true
   },
   "outputs": [
    {
     "data": {
      "text/plain": [
       "0.0001"
      ]
     },
     "execution_count": 4,
     "metadata": {},
     "output_type": "execute_result"
    }
   ],
   "source": [
    "(.0001*(.99))/(0.0001*.99+.9999*.99)"
   ]
  },
  {
   "cell_type": "raw",
   "metadata": {
    "deletable": true,
    "editable": true
   },
   "source": [
    "conditional probability rule\n",
    "P(S)=3/8\n",
    "P(E|S)=1/3\n",
    "P(S&E)=P(S)*P(E|S)=3/24=1/8\n",
    "P(E|S)=P(E*S)/P(S)\n",
    "\n",
    "naive bayes theorem\n",
    "P(S|M)=P(S)P(M|S)/P(S)P(M|S)+P(H)*P(M|H)\n",
    "=3/8*2/3/(3/8*2/3+5/8*1/8)\n",
    "\n",
    "condional probability\n",
    "P(A|B)=P(B|A)P(A)\n",
    "naive replaces P(B|A)=P(A)P(B)\n",
    "\n",
    "CONS of naive bayes\n",
    "    naive bayes does not take into the account of feature dependence. It assumes all features are independent\n",
    "\n",
    "\n"
   ]
  },
  {
   "cell_type": "code",
   "execution_count": 5,
   "metadata": {
    "collapsed": false,
    "deletable": true,
    "editable": true
   },
   "outputs": [
    {
     "data": {
      "text/plain": [
       "0.7619047619047619"
      ]
     },
     "execution_count": 5,
     "metadata": {},
     "output_type": "execute_result"
    }
   ],
   "source": [
    "3/8*2/3/(3/8*2/3+5/8*1/8)"
   ]
  },
  {
   "cell_type": "code",
   "execution_count": 8,
   "metadata": {
    "collapsed": false,
    "deletable": true,
    "editable": true
   },
   "outputs": [
    {
     "data": {
      "text/plain": [
       "0.025"
      ]
     },
     "execution_count": 8,
     "metadata": {},
     "output_type": "execute_result"
    }
   ],
   "source": [
    "how to normalize two ratios\n",
    "P(A)=1/12\n",
    "P(B)=1/40\n",
    "1/12/(1/12+1/40)\n"
   ]
  },
  {
   "cell_type": "code",
   "execution_count": 17,
   "metadata": {
    "collapsed": false,
    "deletable": true,
    "editable": true
   },
   "outputs": [
    {
     "data": {
      "text/plain": [
       "0.7692307692307692"
      ]
     },
     "execution_count": 17,
     "metadata": {},
     "output_type": "execute_result"
    }
   ],
   "source": [
    "1/12/(1/12+1/40)\n",
    "(1/12)/(52/480)"
   ]
  },
  {
   "cell_type": "code",
   "execution_count": 20,
   "metadata": {
    "collapsed": false,
    "deletable": true,
    "editable": true
   },
   "outputs": [
    {
     "data": {
      "text/plain": [
       "624"
      ]
     },
     "execution_count": 20,
     "metadata": {},
     "output_type": "execute_result"
    }
   ],
   "source": [
    "48*13"
   ]
  },
  {
   "cell_type": "code",
   "execution_count": 16,
   "metadata": {
    "collapsed": false,
    "deletable": true,
    "editable": true
   },
   "outputs": [
    {
     "data": {
      "text/plain": [
       "0.7692307692307693"
      ]
     },
     "execution_count": 16,
     "metadata": {},
     "output_type": "execute_result"
    }
   ],
   "source": [
    "10/13"
   ]
  },
  {
   "cell_type": "code",
   "execution_count": 21,
   "metadata": {
    "collapsed": false,
    "deletable": true,
    "editable": true
   },
   "outputs": [
    {
     "data": {
      "text/plain": [
       "0.42857142857142855"
      ]
     },
     "execution_count": 21,
     "metadata": {},
     "output_type": "execute_result"
    }
   ],
   "source": [
    "(3/5)*1/6/((3/5*1/6)+(2/5*1/3))"
   ]
  },
  {
   "cell_type": "raw",
   "metadata": {
    "deletable": true,
    "editable": true
   },
   "source": [
    "P(S|3)=P(S)P(3|S)/(P(S)P(3|S)+P(N)P(3|N)\n",
    "=(3/5)*1/6/((3/5*1/6)+(2/5*1/3))"
   ]
  }
 ],
 "metadata": {
  "kernelspec": {
   "display_name": "Python 3",
   "language": "python",
   "name": "python3"
  },
  "language_info": {
   "codemirror_mode": {
    "name": "ipython",
    "version": 3
   },
   "file_extension": ".py",
   "mimetype": "text/x-python",
   "name": "python",
   "nbconvert_exporter": "python",
   "pygments_lexer": "ipython3",
   "version": "3.5.2"
  }
 },
 "nbformat": 4,
 "nbformat_minor": 2
}
