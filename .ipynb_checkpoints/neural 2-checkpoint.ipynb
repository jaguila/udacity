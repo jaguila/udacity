{
 "cells": [
  {
   "cell_type": "raw",
   "metadata": {
    "deletable": true,
    "editable": true
   },
   "source": [
    "perceptron trick\n",
    "    point coordinates(p,q)\n",
    "    \n",
    "        yhat=step(w1x1+w2x2+b)\n",
    "    \n",
    "    \n",
    "        do nothing\n",
    "    else if point classified pos but is neg\n",
    "        then subtract ap,aq, and a from w1,w2, and b where a is\n",
    "    else if point classified neg but is pos\n",
    "        then add ap,aq, and a from w1,w2, and b where a is\n",
    "learning rate\n",
    "\n",
    "    \n",
    "        \n"
   ]
  },
  {
   "cell_type": "code",
   "execution_count": 2,
   "metadata": {
    "collapsed": false,
    "deletable": true,
    "editable": true
   },
   "outputs": [],
   "source": [
    "import numpy as np\n",
    "# Setting the random seed, feel free to change it and see different solutions.\n",
    "np.random.seed(42)\n",
    "\n",
    "def stepFunction(t):\n",
    "    if t >= 0:\n",
    "        return 1\n",
    "    return 0\n",
    "\n",
    "def prediction(X, W, b):\n",
    "    return stepFunction((np.matmul(X,W)+b)[0])\n",
    "\n",
    "# TODO: Fill in the code below to implement the perceptron trick.\n",
    "# The function should receive as inputs the data X, the labels y,\n",
    "# the weights W (as an array), and the bias b,\n",
    "# update the weights and bias W, b, according to the perceptron algorithm,\n",
    "# and return W and b.\n",
    "def perceptronStep(X, y, W, b, learn_rate = 0.01):\n",
    "    # Fill in code\n",
    "    \n",
    "    for i in range(len(X)):\n",
    "        yhat=prediction(X[i],W,b)\n",
    "#         really neg but classified pos\n",
    "        if yhat-y[i]>0:\n",
    "            W[0]-=X[i][0]*learn_rate\n",
    "            W[1]-=X[i][1]*learn_rate\n",
    "            b-=learn_rate\n",
    "#         really pos but classified neg\n",
    "        elif yhat-y[i]<-1:\n",
    "            W[0]+=X[i][0]*learn_rate\n",
    "            W[1]+=X[i][1]*learn_rate\n",
    "            b+=learn_rate\n",
    "\n",
    "    return W, b\n",
    " "
   ]
  },
  {
   "cell_type": "raw",
   "metadata": {
    "deletable": true,
    "editable": true
   },
   "source": [
    "error function\n",
    "    gradient descent \n",
    "        taking derivatives and local min to see error go down the most\n",
    "        must be continuous"
   ]
  },
  {
   "cell_type": "raw",
   "metadata": {
    "deletable": true,
    "editable": true
   },
   "source": [
    "perceptron but with continous variables\n",
    "\n",
    "    Turning step to continous\n",
    "        sigmoid function=1/(1-e**-x)\n",
    "    new functions:\n",
    "        sig(Wx+b)\n",
    "        which means probability of positive prediction\n",
    "    "
   ]
  },
  {
   "cell_type": "code",
   "execution_count": 14,
   "metadata": {
    "collapsed": false,
    "deletable": true,
    "editable": true
   },
   "outputs": [],
   "source": [
    "import numpy as np\n",
    "def quiz1(x1,x2):\n",
    "    return (1/(1+np.exp(4*x1+5*x2-9)))"
   ]
  },
  {
   "cell_type": "code",
   "execution_count": 15,
   "metadata": {
    "collapsed": false,
    "deletable": true,
    "editable": true
   },
   "outputs": [
    {
     "name": "stdout",
     "output_type": "stream",
     "text": [
      "0.5\n",
      "5.60279640615e-09\n",
      "0.999999168472\n",
      "0.5\n"
     ]
    }
   ],
   "source": [
    "print(quiz1(1,1))\n",
    "print(quiz1(2,4))\n",
    "print(quiz1(5,-5))\n",
    "print(quiz1(-4,5))"
   ]
  },
  {
   "cell_type": "raw",
   "metadata": {
    "collapsed": true,
    "deletable": true,
    "editable": true
   },
   "source": [
    "softmax function - used for non-binary classifications\n",
    "        linear function scores=z1...zn\n",
    "        \n",
    "        exp(zi)/exp(z1)+....exp(zn)\n",
    "        \n",
    "maximum likelihood\n",
    "    find best models to those that provide the best probabilities to all the cases\n",
    "prediction\n",
    "    the model will classify most points correctly with P(all) indicated how accurate model is"
   ]
  }
 ],
 "metadata": {
  "kernelspec": {
   "display_name": "Python 3",
   "language": "python",
   "name": "python3"
  },
  "language_info": {
   "codemirror_mode": {
    "name": "ipython",
    "version": 3
   },
   "file_extension": ".py",
   "mimetype": "text/x-python",
   "name": "python",
   "nbconvert_exporter": "python",
   "pygments_lexer": "ipython3",
   "version": "3.5.2"
  }
 },
 "nbformat": 4,
 "nbformat_minor": 2
}
