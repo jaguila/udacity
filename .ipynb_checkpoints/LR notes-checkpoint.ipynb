{
 "cells": [
  {
   "cell_type": "raw",
   "metadata": {
    "deletable": true,
    "editable": true
   },
   "source": [
    "Linear Regression\n",
    "x predictor features\n",
    "y outcome values\n",
    "W predictor feature coeff\n",
    "b regression intercept\n",
    "learn_rate\n",
    "\n",
    "w_new : coeff after gradient descent\n",
    "b_new: coeff after gradient descent\n",
    "\n",
    "Base equation\n",
    "y=w1*x+b\n",
    "yhat=w1*xhat+b\n",
    "\n",
    "error=y-y_pred\n",
    "\n",
    "mean square error(gradient decent)\n",
    "w_new=W+learn_rate*error*X\n",
    "b_new=b*learn_rate*error\n",
    "\n",
    "\n",
    "Pros:\n",
    "    good for when data fits a linear pattern\n",
    "cons:\n",
    "    bad with multiple local max/mins (multiple degree derivs)\n",
    "    bad with outliers\n",
    "\n"
   ]
  },
  {
   "cell_type": "code",
   "execution_count": 22,
   "metadata": {
    "collapsed": false,
    "deletable": true,
    "editable": true
   },
   "outputs": [],
   "source": [
    "import pandas as pd\n",
    "from sklearn.preprocessing import PolynomialFeatures as PF\n",
    "from sklearn.linear_model import LinearRegression as LR\n",
    "\n",
    "# import data\n",
    "test_data=pd.read_csv(\"data.csv\")\n",
    "x=test_data.iloc[:,0].values.reshape(-1,1)\n",
    "y=test_data.iloc[:,1].values\n",
    "\n",
    "# set polynomial features\n",
    "\n",
    "x_poly=PF().fit_transform(x)\n",
    "\n",
    "# Conduct Linear Regression\n",
    "model=LR().fit(x_poly, y)\n"
   ]
  },
  {
   "cell_type": "code",
   "execution_count": 19,
   "metadata": {
    "collapsed": false,
    "deletable": true,
    "editable": true
   },
   "outputs": [
    {
     "data": {
      "text/plain": [
       "array([[-0.33532],\n",
       "       [ 0.0216 ],\n",
       "       [-1.19438],\n",
       "       [-0.65046],\n",
       "       [-0.28001],\n",
       "       [ 1.93258],\n",
       "       [ 1.2262 ],\n",
       "       [ 0.74727],\n",
       "       [ 3.32853],\n",
       "       [ 2.87457],\n",
       "       [-1.48662],\n",
       "       [ 0.37629],\n",
       "       [ 1.43918],\n",
       "       [ 0.24183],\n",
       "       [-2.7914 ],\n",
       "       [ 1.08176],\n",
       "       [ 2.81555],\n",
       "       [ 0.54924],\n",
       "       [ 2.36449],\n",
       "       [-1.01925]])"
      ]
     },
     "execution_count": 19,
     "metadata": {},
     "output_type": "execute_result"
    }
   ],
   "source": [
    "X"
   ]
  },
  {
   "cell_type": "raw",
   "metadata": {},
   "source": [
    "regularization\n",
    "    adding complexity of models (high degree poly) to error\n",
    "L1\n",
    "    sum abs value of coeff to error\n",
    "    benefits:\n",
    "        Computationally inefficient unless data is sparse\n",
    "        Better only when sparse (100 rows of data but 10 are relavant)\n",
    "        feature selection(good at finding the most relevant features)\n",
    "L2\n",
    "    Sum square of coeff to error\n",
    "    benefits:\n",
    "        computationally efficient\n",
    "        non sparse(data equally distrib)\n",
    "        cannot do feature selection\n",
    "lambda \n",
    "       is a factor that punishes complex models(high regularizations). This is a parameter that is modified for different reasons(less complex for speed"
   ]
  },
  {
   "cell_type": "code",
   "execution_count": 25,
   "metadata": {
    "collapsed": false
   },
   "outputs": [
    {
     "name": "stdout",
     "output_type": "stream",
     "text": [
      "[ 0.          2.35793224  2.00441646 -0.05511954 -3.92808318  0.        ]\n"
     ]
    }
   ],
   "source": [
    "import pandas as pd\n",
    "from sklearn.linear_model import Lasso, LinearRegression as LR\n",
    "\n",
    "\n",
    "# Assign the data to predictor and outcome variables\n",
    "# TODO: Load the data\n",
    "train_data = pd.read_csv('data2.csv',header=None)\n",
    "X = train_data.iloc[:,:-1].values\n",
    "y = train_data.iloc[:,-1].values\n",
    "\n",
    "# TODO: Create the linear regression model with lasso regularization.\n",
    "lasso_reg = Lasso()\n",
    "\n",
    "\n",
    "# TODO: Fit the model.\n",
    "lasso_reg.fit(X,y)\n",
    "\n",
    "# TODO: Retrieve and print out the coefficients from the regression model.\n",
    "reg_coef = lasso_reg.coef_\n",
    "print(reg_coef)\n",
    "\n",
    "\n",
    "\n",
    "# Note that the first feature was zeroed out and is no longer applicable"
   ]
  },
  {
   "cell_type": "code",
   "execution_count": 26,
   "metadata": {
    "collapsed": true
   },
   "outputs": [],
   "source": [
    "model=LR().fit(X,y)"
   ]
  },
  {
   "cell_type": "code",
   "execution_count": 27,
   "metadata": {
    "collapsed": false
   },
   "outputs": [
    {
     "data": {
      "text/plain": [
       "array([ -6.19918532e-03,   2.96325160e+00,   1.98199191e+00,\n",
       "        -7.86249920e-02,  -3.95818772e+00,   9.30786141e+00])"
      ]
     },
     "execution_count": 27,
     "metadata": {},
     "output_type": "execute_result"
    }
   ],
   "source": [
    "model.coef_"
   ]
  },
  {
   "cell_type": "code",
   "execution_count": null,
   "metadata": {
    "collapsed": true
   },
   "outputs": [],
   "source": []
  }
 ],
 "metadata": {
  "kernelspec": {
   "display_name": "Python 3",
   "language": "python",
   "name": "python3"
  },
  "language_info": {
   "codemirror_mode": {
    "name": "ipython",
    "version": 3
   },
   "file_extension": ".py",
   "mimetype": "text/x-python",
   "name": "python",
   "nbconvert_exporter": "python",
   "pygments_lexer": "ipython3",
   "version": "3.5.2"
  }
 },
 "nbformat": 4,
 "nbformat_minor": 2
}
