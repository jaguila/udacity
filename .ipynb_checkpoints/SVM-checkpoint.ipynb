{
 "cells": [
  {
   "cell_type": "markdown",
   "metadata": {},
   "source": [
    "SVM\n",
    "\n",
    "    General idea: try to split the data by lines but adding a \"margin\". This margin is a new lin created that to calculate the distance\n",
    "    between original split and the Marjority of the data of one classification.\n",
    "    \n",
    "    two errors to consider for fitting model(want to find min error through gradient descent)\n",
    "        margin and classification error\n",
    "    \n",
    "    \n",
    "    margin=2/|W|\n",
    "    \n",
    "    where norm of W ( coeff's)\n",
    "        sum(w^2)^1/2\n",
    "    error=|W|^2\n",
    "    will give large error if margin is small small error if margin is large\n",
    "        \n",
    "       \n",
    "    "
   ]
  },
  {
   "cell_type": "markdown",
   "metadata": {},
   "source": [
    "example:\n",
    "    Wx+b=0 \n",
    "    W=(3,4), b=0\n",
    "    3x1+4x2+1=0 split line\n",
    "    margins\n",
    "    3x2+4x2+1=1 3x2+4x2+1=2 margins\n",
    "    error=|W|**2\n",
    "    3**2+4**2=25\n",
    "    margin=2/|W|\n",
    "    2/(25^1/2)=2/5"
   ]
  },
  {
   "cell_type": "markdown",
   "metadata": {},
   "source": [
    "C parameter = how much error is alllowable. Large C focus on classifying points. Small C focus on large margin\n",
    "    Medical Model wants no misclassifications at all\n",
    "        Large C\n",
    "    REcommendation engine wants well spaced \n",
    "    \n",
    "    Small C = large margin, may make classification errors\n",
    "    Large= classifies points well, small margin\n",
    "C is used in GridSearch\n",
    "    "
   ]
  },
  {
   "cell_type": "code",
   "execution_count": null,
   "metadata": {
    "collapsed": true
   },
   "outputs": [],
   "source": [
    "Kernel Trick\n",
    "    modifying "
   ]
  }
 ],
 "metadata": {
  "kernelspec": {
   "display_name": "Python 3",
   "language": "python",
   "name": "python3"
  },
  "language_info": {
   "codemirror_mode": {
    "name": "ipython",
    "version": 3
   },
   "file_extension": ".py",
   "mimetype": "text/x-python",
   "name": "python",
   "nbconvert_exporter": "python",
   "pygments_lexer": "ipython3",
   "version": "3.5.2"
  }
 },
 "nbformat": 4,
 "nbformat_minor": 2
}
