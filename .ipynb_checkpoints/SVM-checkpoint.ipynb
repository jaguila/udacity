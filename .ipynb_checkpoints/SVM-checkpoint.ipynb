{
 "cells": [
  {
   "cell_type": "markdown",
   "metadata": {
    "deletable": true,
    "editable": true
   },
   "source": [
    "SVM\n",
    "\n",
    "    General idea: try to split the data by lines but adding a \"margin\". This margin is a new lin created that to calculate the distance\n",
    "    between original split and the Marjority of the data of one classification.\n",
    "    \n",
    "    two errors to consider for fitting model(want to find min error through gradient descent)\n",
    "        margin and classification error\n",
    "    \n",
    "    \n",
    "    margin=2/|W|\n",
    "    \n",
    "    where norm of W ( coeff's)\n",
    "        sum(w^2)^1/2\n",
    "    error=|W|^2\n",
    "    will give large error if margin is small small error if margin is large\n",
    "        \n",
    "       \n",
    "    "
   ]
  },
  {
   "cell_type": "markdown",
   "metadata": {
    "deletable": true,
    "editable": true
   },
   "source": [
    "example:\n",
    "    Wx+b=0 \n",
    "    W=(3,4), b=0\n",
    "    3x1+4x2+1=0 split line\n",
    "    margins\n",
    "    3x2+4x2+1=1 3x2+4x2+1=2 margins\n",
    "    error=|W|**2\n",
    "    3**2+4**2=25\n",
    "    margin=2/|W|\n",
    "    2/(25^1/2)=2/5"
   ]
  },
  {
   "cell_type": "raw",
   "metadata": {
    "deletable": true,
    "editable": true
   },
   "source": [
    "C parameter = how much error is alllowable. Large C focus on classifying points. Small C focus on large margin\n",
    "    edical Model wants no misclassifications at all Large C\n",
    "   REcommendation engine wants well spaced so it wants small C\n",
    "    \n",
    "    Small C = large margin, may make classification errors\n",
    "    Large= classifies points well, small margin\n",
    "C is used in GridSearch\n",
    "    "
   ]
  },
  {
   "cell_type": "raw",
   "metadata": {
    "collapsed": true,
    "deletable": true,
    "editable": true
   },
   "source": [
    "Kernel Trick\n",
    "    modifying the planes to be able to easily classify the data. gives us options to make polynomials and curves for boundaries\n",
    "    degree is the power we put the points\n",
    "        ex. degree 3 allows for x**3\n",
    "        \n",
    "RBF kernel\n",
    "    build functions where each point is a \"mountain\"\n",
    "    \n",
    "gamma\n",
    "    hyperparameter for SVM\n",
    "    Large Gamma makes really steep mountain - tends to overfit\n",
    "    small gamma makes really wide mountain - tends to underfit\n",
    "    "
   ]
  },
  {
   "cell_type": "raw",
   "metadata": {
    "deletable": true,
    "editable": true
   },
   "source": [
    "from sklearn.svm import SVC\n",
    "from skelearn.metrics import accuracy_score\n",
    "\n",
    "\n",
    "model=SVC(kernel='rbf,poly,linear', gamma=[1,100], C=0.1, degree=[1,10])\n"
   ]
  },
  {
   "cell_type": "code",
   "execution_count": null,
   "metadata": {
    "collapsed": true
   },
   "outputs": [],
   "source": []
  }
 ],
 "metadata": {
  "kernelspec": {
   "display_name": "Python 3",
   "language": "python",
   "name": "python3"
  },
  "language_info": {
   "codemirror_mode": {
    "name": "ipython",
    "version": 3
   },
   "file_extension": ".py",
   "mimetype": "text/x-python",
   "name": "python",
   "nbconvert_exporter": "python",
   "pygments_lexer": "ipython3",
   "version": "3.5.2"
  }
 },
 "nbformat": 4,
 "nbformat_minor": 2
}
