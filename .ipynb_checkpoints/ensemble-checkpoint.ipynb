{
 "cells": [
  {
   "cell_type": "raw",
   "metadata": {},
   "source": [
    "ensemble methods\n",
    "    bagging - take average of answers\n",
    "    boosting - give priority or weight to features that do well\n",
    "    weak learners put together to make a strong learner\n",
    "    ensemble to combing\n",
    "    "
   ]
  },
  {
   "cell_type": "raw",
   "metadata": {},
   "source": [
    "\n",
    "variables\n",
    "    bias\n",
    "        high bias not good at bending to the data\n",
    "    variance\n",
    "        high variance allows for decision trees to make a seperate leaf for each point\n",
    "        \n",
    "combining algorithms is good to find a good center for bias and variance"
   ]
  },
  {
   "cell_type": "raw",
   "metadata": {},
   "source": [
    "introduction of randomness\n",
    "    bootstrap - sample data with replacement\n",
    "    subset the features - subset a portion of the features for each split of a decision tree or algorithm\n",
    "    \n"
   ]
  },
  {
   "cell_type": "code",
   "execution_count": null,
   "metadata": {
    "collapsed": true
   },
   "outputs": [],
   "source": [
    "random forests\n",
    "    takes only a subset of the features to make a seperate prediction and then provides prediction based on most common prediction"
   ]
  }
 ],
 "metadata": {
  "kernelspec": {
   "display_name": "Python 3",
   "language": "python",
   "name": "python3"
  },
  "language_info": {
   "codemirror_mode": {
    "name": "ipython",
    "version": 3
   },
   "file_extension": ".py",
   "mimetype": "text/x-python",
   "name": "python",
   "nbconvert_exporter": "python",
   "pygments_lexer": "ipython3",
   "version": "3.5.2"
  }
 },
 "nbformat": 4,
 "nbformat_minor": 2
}
