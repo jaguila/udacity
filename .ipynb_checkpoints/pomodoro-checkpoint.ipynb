{
 "cells": [
  {
   "cell_type": "code",
   "execution_count": 18,
   "metadata": {
    "collapsed": false
   },
   "outputs": [],
   "source": [
    "# pomodoro tech\n",
    "# input task or break\n",
    "# sleep based on input\n",
    "# output current task number\n",
    "import time\n",
    "import datetime\n",
    "\n",
    "\n",
    "\n",
    "n=0\n",
    "\n",
    "def pom():\n",
    "    global n\n",
    "    \n",
    "    x=input('task or break?')\n",
    "    t0=datetime.datetime.now()\n",
    "    print('task started '+str(t0))\n",
    "    if x.lower()=='task':\n",
    "        time.sleep(900)\n",
    "        n+=1\n",
    "    elif lower(x)=='break':\n",
    "        time.sleep(300)\n",
    "    t1=datetime.datetime.now()\n",
    "    if n<4:\n",
    "        print(\"Task completed at \"+str(t1)+\" you are at \"+str(n)+\" of 4 tasks\")\n",
    "    else:\n",
    "        print(\"You finished 4 tasks at \"+str(t1)+\"time for a long break\")\n",
    "        n=0\n",
    "    \n",
    "    \n",
    "    "
   ]
  },
  {
   "cell_type": "code",
   "execution_count": null,
   "metadata": {
    "collapsed": false
   },
   "outputs": [
    {
     "name": "stdout",
     "output_type": "stream",
     "text": [
      "task or break?task\n",
      "task started 2019-01-10 23:36:13.834887\n"
     ]
    }
   ],
   "source": [
    "pom()"
   ]
  },
  {
   "cell_type": "code",
   "execution_count": null,
   "metadata": {
    "collapsed": true
   },
   "outputs": [],
   "source": []
  },
  {
   "cell_type": "code",
   "execution_count": 17,
   "metadata": {
    "collapsed": false
   },
   "outputs": [
    {
     "data": {
      "text/plain": [
       "300"
      ]
     },
     "execution_count": 17,
     "metadata": {},
     "output_type": "execute_result"
    }
   ],
   "source": []
  },
  {
   "cell_type": "code",
   "execution_count": null,
   "metadata": {
    "collapsed": true
   },
   "outputs": [],
   "source": []
  }
 ],
 "metadata": {
  "kernelspec": {
   "display_name": "Python 3",
   "language": "python",
   "name": "python3"
  },
  "language_info": {
   "codemirror_mode": {
    "name": "ipython",
    "version": 3
   },
   "file_extension": ".py",
   "mimetype": "text/x-python",
   "name": "python",
   "nbconvert_exporter": "python",
   "pygments_lexer": "ipython3",
   "version": "3.5.2"
  }
 },
 "nbformat": 4,
 "nbformat_minor": 2
}
