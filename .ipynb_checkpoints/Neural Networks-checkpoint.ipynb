{
 "cells": [
  {
   "cell_type": "code",
   "execution_count": null,
   "metadata": {
    "collapsed": true,
    "deletable": true,
    "editable": true
   },
   "outputs": [],
   "source": [
    "neural network - just tries to split the points to classify properly\n",
    "\n",
    "\n",
    "Perceptron\n",
    "    models 2x1+x2-18=0\n",
    "    node works as such (7,6) is point \n",
    "        N1=7 --2->\n",
    "                    >-18\n",
    "        N2=6 --1->\n",
    "        \n",
    "        or\n",
    "        N1=7 --2->\n",
    "                \n",
    "        N2=6 --1->\n",
    "        \n",
    "        N3=1 --(-18)-->\n",
    "        \n",
    "perceptron trick\n",
    "    line=3x1+4x2-10=0\n",
    "    point(4,5) learning_rate=0.1\n",
    "    since (4,5) above line subtract\n",
    "    (w1-xhat*0.1)x1+(w2-yhat*0.1)x2-(10-0.1)=0\n",
    "    \n",
    "        \n",
    "    "
   ]
  }
 ],
 "metadata": {
  "kernelspec": {
   "display_name": "Python 3",
   "language": "python",
   "name": "python3"
  },
  "language_info": {
   "codemirror_mode": {
    "name": "ipython",
    "version": 3
   },
   "file_extension": ".py",
   "mimetype": "text/x-python",
   "name": "python",
   "nbconvert_exporter": "python",
   "pygments_lexer": "ipython3",
   "version": "3.5.2"
  }
 },
 "nbformat": 4,
 "nbformat_minor": 2
}
