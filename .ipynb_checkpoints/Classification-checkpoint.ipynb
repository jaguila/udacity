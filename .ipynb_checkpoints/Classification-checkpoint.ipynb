{
 "cells": [
  {
   "cell_type": "markdown",
   "metadata": {
    "deletable": true,
    "editable": true
   },
   "source": [
    "Classification \n",
    "    Yes or No\n",
    "    perceptron algorithm - basis for neural network\n",
    "        boundary line - \n",
    "            w1x1+w2x2+b=0\n",
    "            Wx+b=0\n",
    "            W=(w1,w2) x=(x1,x2)\n",
    "        "
   ]
  },
  {
   "cell_type": "code",
   "execution_count": 3,
   "metadata": {
    "collapsed": false,
    "deletable": true,
    "editable": true
   },
   "outputs": [
    {
     "data": {
      "text/plain": [
       "-1.5"
      ]
     },
     "execution_count": 3,
     "metadata": {},
     "output_type": "execute_result"
    }
   ],
   "source": [
    "def test(i,j):\n",
    "    \n",
    "    x=1.5*i+j-18\n",
    "    return x\n",
    "test(7,6)\n",
    "\n"
   ]
  },
  {
   "cell_type": "raw",
   "metadata": {
    "deletable": true,
    "editable": true
   },
   "source": [
    "perceptron \n",
    "    encoding of equation into a small graph\n",
    "    graph legend - \n",
    "        input nodes are the features, numbers going into the nodes are the feature coefficients\n",
    "        last input node is bias\n",
    "        \n",
    "        main nodes - equation or function node and step function node"
   ]
  },
  {
   "cell_type": "code",
   "execution_count": null,
   "metadata": {
    "collapsed": true,
    "deletable": true,
    "editable": true
   },
   "outputs": [],
   "source": [
    "Perceptron algorithm Line Trick\n",
    "    say random line w1x1+w2x2-10=0\n",
    "    then take point that is misclassified (xhat,yhat)\n",
    "    take learning rate (.01 )\n",
    "    \n",
    "    "
   ]
  }
 ],
 "metadata": {
  "kernelspec": {
   "display_name": "Python 3",
   "language": "python",
   "name": "python3"
  },
  "language_info": {
   "codemirror_mode": {
    "name": "ipython",
    "version": 3
   },
   "file_extension": ".py",
   "mimetype": "text/x-python",
   "name": "python",
   "nbconvert_exporter": "python",
   "pygments_lexer": "ipython3",
   "version": "3.5.2"
  }
 },
 "nbformat": 4,
 "nbformat_minor": 2
}
