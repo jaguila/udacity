{
 "cells": [
  {
   "cell_type": "raw",
   "metadata": {
    "collapsed": true,
    "deletable": true,
    "editable": true
   },
   "source": [
    "Confusion matrix - matrix of True positives, false positives, false negatives, true negatives\n",
    "\n",
    "Type 1 error - False Positives\n",
    "type 2 error - false negatives"
   ]
  },
  {
   "cell_type": "raw",
   "metadata": {},
   "source": [
    "11/14"
   ]
  },
  {
   "cell_type": "raw",
   "metadata": {},
   "source": [
    "high recall means want to reduce Type 2 error alot meaning low false negatives\n",
    "recall = accuracy of correct positive classifications out of all true postives\n",
    "\n",
    "precision = accuracy of correct positive classifications out of all positive classifications = True Positive/All Postive predictions\n",
    "\n",
    "\n",
    "F1 score - helps raise a flag for you to know either recall or precision is low. \n",
    "    - the lower of the two will drag the f1 score down"
   ]
  },
  {
   "cell_type": "code",
   "execution_count": 3,
   "metadata": {
    "collapsed": false
   },
   "outputs": [
    {
     "data": {
      "text/plain": [
       "0.6668797696184305"
      ]
     },
     "execution_count": 3,
     "metadata": {},
     "output_type": "execute_result"
    }
   ],
   "source": [
    "(0.556*0.833*2)/(0.556+0.833)"
   ]
  },
  {
   "cell_type": "raw",
   "metadata": {},
   "source": [
    "# Fbeta - F score where beta low means that there is a higher emphasis\n",
    "    on precision. Beta high means higher emphasis on Recall\n",
    "    \n",
    "    example. F3 score - mailing Promotional material to interested users\n",
    "        - This is good because if low precision it is bad because you are sending out promo\n",
    "            material to people that wont want and it costs money to send out\n",
    "            \n",
    "Fbeta = (1+N)((Precision*Recall)/(N**2 * Precision+Recall)"
   ]
  }
 ],
 "metadata": {
  "kernelspec": {
   "display_name": "Python 3",
   "language": "python",
   "name": "python3"
  },
  "language_info": {
   "codemirror_mode": {
    "name": "ipython",
    "version": 3
   },
   "file_extension": ".py",
   "mimetype": "text/x-python",
   "name": "python",
   "nbconvert_exporter": "python",
   "pygments_lexer": "ipython3",
   "version": "3.5.2"
  }
 },
 "nbformat": 4,
 "nbformat_minor": 2
}
