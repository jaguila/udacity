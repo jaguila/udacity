{
 "cells": [
  {
   "cell_type": "raw",
   "metadata": {},
   "source": [
    "Bayes Theorem\n",
    "\n",
    "probability of A given R = P(R|A)=P(R intersect A) = P(A)P(R|A)\n",
    "this is infering\n",
    "\n",
    "to normalize two probabilities you divide the probabilities by the total of all probabilities"
   ]
  },
  {
   "cell_type": "code",
   "execution_count": 1,
   "metadata": {
    "collapsed": false
   },
   "outputs": [
    {
     "data": {
      "text/plain": [
       "9.900000000000001e-05"
      ]
     },
     "execution_count": 1,
     "metadata": {},
     "output_type": "execute_result"
    }
   ],
   "source": [
    "# A=sick\n",
    "# P(A)=1/10000\n",
    "# R=probability correct\n",
    "# P(R)=.99\n",
    "pa=1/10000\n",
    "pr=.99\n",
    "pa*pr"
   ]
  },
  {
   "cell_type": "code",
   "execution_count": null,
   "metadata": {
    "collapsed": true
   },
   "outputs": [],
   "source": []
  }
 ],
 "metadata": {
  "kernelspec": {
   "display_name": "Python 3",
   "language": "python",
   "name": "python3"
  },
  "language_info": {
   "codemirror_mode": {
    "name": "ipython",
    "version": 3
   },
   "file_extension": ".py",
   "mimetype": "text/x-python",
   "name": "python",
   "nbconvert_exporter": "python",
   "pygments_lexer": "ipython3",
   "version": "3.5.2"
  }
 },
 "nbformat": 4,
 "nbformat_minor": 2
}
