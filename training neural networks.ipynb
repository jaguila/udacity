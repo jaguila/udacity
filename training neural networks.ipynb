{
 "cells": [
  {
   "cell_type": "code",
   "execution_count": null,
   "metadata": {
    "collapsed": true
   },
   "outputs": [],
   "source": [
    "regularization\n",
    "    L1 adding weights to to the error function\n",
    "        sparsity (1,0,0,1,0)\n",
    "        good for feature selection\n",
    "    L2 adding square of weights to the error function\n",
    "        sparsity (0.5,0.3,-0.2...)\n",
    "        normally better for training models"
   ]
  }
 ],
 "metadata": {
  "kernelspec": {
   "display_name": "Python 3",
   "language": "python",
   "name": "python3"
  },
  "language_info": {
   "codemirror_mode": {
    "name": "ipython",
    "version": 3
   },
   "file_extension": ".py",
   "mimetype": "text/x-python",
   "name": "python",
   "nbconvert_exporter": "python",
   "pygments_lexer": "ipython3",
   "version": "3.5.2"
  }
 },
 "nbformat": 4,
 "nbformat_minor": 2
}
